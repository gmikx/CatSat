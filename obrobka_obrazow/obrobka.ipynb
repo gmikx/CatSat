{
 "cells": [
  {
   "attachments": {},
   "cell_type": "markdown",
   "metadata": {},
   "source": [
    "# Obróbka obrazów zebranych przez puszkę"
   ]
  },
  {
   "attachments": {},
   "cell_type": "markdown",
   "metadata": {},
   "source": [
    "## Program ma na celu obrabiać zdjęcia *prawie* satelitarne i robić z nich mapę"
   ]
  },
  {
   "attachments": {},
   "cell_type": "markdown",
   "metadata": {},
   "source": [
    "---"
   ]
  },
  {
   "cell_type": "code",
   "execution_count": null,
   "metadata": {},
   "outputs": [],
   "source": [
    "# from pytorch_lightning import Trainer\n",
    "# from torch.utils.data import DataLoader\n",
    "# from torchgeo.datamodules import InriaAerialImageLabelingDataModule\n",
    "# from torchgeo.datasets import CDL, Landsat7, Landsat8, VHR10, stack_samples\n",
    "# from torchgeo.samplers import RandomGeoSampler\n",
    "# from torchgeo.trainers import SemanticSegmentationTask"
   ]
  }
 ],
 "metadata": {
  "kernelspec": {
   "display_name": "Python 3",
   "language": "python",
   "name": "python3"
  },
  "language_info": {
   "codemirror_mode": {
    "name": "ipython",
    "version": 3
   },
   "file_extension": ".py",
   "mimetype": "text/x-python",
   "name": "python",
   "nbconvert_exporter": "python",
   "pygments_lexer": "ipython3",
   "version": "3.8.10"
  },
  "orig_nbformat": 4,
  "vscode": {
   "interpreter": {
    "hash": "916dbcbb3f70747c44a77c7bcd40155683ae19c65e1c03b4aa3499c5328201f1"
   }
  }
 },
 "nbformat": 4,
 "nbformat_minor": 2
}
