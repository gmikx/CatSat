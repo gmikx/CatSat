{
 "cells": [
  {
   "attachments": {},
   "cell_type": "markdown",
   "metadata": {},
   "source": [
    "# Load trained model and use it to classify images"
   ]
  },
  {
   "attachments": {},
   "cell_type": "markdown",
   "metadata": {},
   "source": [
    "## import needed libraries"
   ]
  },
  {
   "cell_type": "code",
   "execution_count": 13,
   "metadata": {},
   "outputs": [],
   "source": [
    "from keras.models import load_model\n",
    "import cv2\n",
    "import numpy as np\n",
    "import matplotlib.pyplot as plt\n",
    "import os"
   ]
  },
  {
   "attachments": {},
   "cell_type": "markdown",
   "metadata": {},
   "source": [
    "### path to this file"
   ]
  },
  {
   "cell_type": "code",
   "execution_count": 14,
   "metadata": {},
   "outputs": [],
   "source": [
    "try:\n",
    "    PATH = os.path.dirname(os.path.realpath(__file__))\n",
    "except: PATH = '.'"
   ]
  },
  {
   "cell_type": "code",
   "execution_count": 15,
   "metadata": {},
   "outputs": [],
   "source": [
    "os.chdir(PATH)"
   ]
  },
  {
   "attachments": {},
   "cell_type": "markdown",
   "metadata": {},
   "source": [
    "## load model"
   ]
  },
  {
   "cell_type": "code",
   "execution_count": 16,
   "metadata": {},
   "outputs": [
    {
     "ename": "OSError",
     "evalue": "No file or directory found at ./best_model/",
     "output_type": "error",
     "traceback": [
      "\u001b[0;31m---------------------------------------------------------------------------\u001b[0m",
      "\u001b[0;31mOSError\u001b[0m                                   Traceback (most recent call last)",
      "Cell \u001b[0;32mIn [16], line 1\u001b[0m\n\u001b[0;32m----> 1\u001b[0m cnn \u001b[39m=\u001b[39m load_model(\u001b[39mf\u001b[39;49m\u001b[39m\"\u001b[39;49m\u001b[39m./best_model/\u001b[39;49m\u001b[39m\"\u001b[39;49m)\n",
      "File \u001b[0;32m~/.local/lib/python3.10/site-packages/keras/utils/traceback_utils.py:70\u001b[0m, in \u001b[0;36mfilter_traceback.<locals>.error_handler\u001b[0;34m(*args, **kwargs)\u001b[0m\n\u001b[1;32m     67\u001b[0m     filtered_tb \u001b[39m=\u001b[39m _process_traceback_frames(e\u001b[39m.\u001b[39m__traceback__)\n\u001b[1;32m     68\u001b[0m     \u001b[39m# To get the full stack trace, call:\u001b[39;00m\n\u001b[1;32m     69\u001b[0m     \u001b[39m# `tf.debugging.disable_traceback_filtering()`\u001b[39;00m\n\u001b[0;32m---> 70\u001b[0m     \u001b[39mraise\u001b[39;00m e\u001b[39m.\u001b[39mwith_traceback(filtered_tb) \u001b[39mfrom\u001b[39;00m \u001b[39mNone\u001b[39m\n\u001b[1;32m     71\u001b[0m \u001b[39mfinally\u001b[39;00m:\n\u001b[1;32m     72\u001b[0m     \u001b[39mdel\u001b[39;00m filtered_tb\n",
      "File \u001b[0;32m~/.local/lib/python3.10/site-packages/keras/saving/legacy/save.py:227\u001b[0m, in \u001b[0;36mload_model\u001b[0;34m(filepath, custom_objects, compile, options)\u001b[0m\n\u001b[1;32m    225\u001b[0m \u001b[39mif\u001b[39;00m \u001b[39misinstance\u001b[39m(filepath_str, \u001b[39mstr\u001b[39m):\n\u001b[1;32m    226\u001b[0m     \u001b[39mif\u001b[39;00m \u001b[39mnot\u001b[39;00m tf\u001b[39m.\u001b[39mio\u001b[39m.\u001b[39mgfile\u001b[39m.\u001b[39mexists(filepath_str):\n\u001b[0;32m--> 227\u001b[0m         \u001b[39mraise\u001b[39;00m \u001b[39mIOError\u001b[39;00m(\n\u001b[1;32m    228\u001b[0m             \u001b[39mf\u001b[39m\u001b[39m\"\u001b[39m\u001b[39mNo file or directory found at \u001b[39m\u001b[39m{\u001b[39;00mfilepath_str\u001b[39m}\u001b[39;00m\u001b[39m\"\u001b[39m\n\u001b[1;32m    229\u001b[0m         )\n\u001b[1;32m    231\u001b[0m     \u001b[39mif\u001b[39;00m tf\u001b[39m.\u001b[39mio\u001b[39m.\u001b[39mgfile\u001b[39m.\u001b[39misdir(filepath_str):\n\u001b[1;32m    232\u001b[0m         \u001b[39mreturn\u001b[39;00m saved_model_load\u001b[39m.\u001b[39mload(\n\u001b[1;32m    233\u001b[0m             filepath_str, \u001b[39mcompile\u001b[39m, options\n\u001b[1;32m    234\u001b[0m         )\n",
      "\u001b[0;31mOSError\u001b[0m: No file or directory found at ./best_model/"
     ]
    }
   ],
   "source": [
    "cnn = load_model(f\"./best_model/\")"
   ]
  },
  {
   "attachments": {},
   "cell_type": "markdown",
   "metadata": {},
   "source": [
    "## slice photo"
   ]
  },
  {
   "cell_type": "code",
   "execution_count": null,
   "metadata": {},
   "outputs": [],
   "source": [
    "szerokosc_obrazek = 1920\n",
    "wysokosc_obrazek = 1080\n",
    "szerokosc_okno = 64\n",
    "\n",
    "szerokosc_mapa = szerokosc_obrazek - szerokosc_okno + 1\n",
    "wysokosc_mapa = wysokosc_obrazek - szerokosc_okno + 1"
   ]
  },
  {
   "attachments": {},
   "cell_type": "markdown",
   "metadata": {},
   "source": [
    "### create dir for slices"
   ]
  },
  {
   "cell_type": "code",
   "execution_count": null,
   "metadata": {},
   "outputs": [],
   "source": [
    "try:\n",
    "    os.chdir('./photos_to_process/')\n",
    "except: pass\n",
    "\n",
    "try:\n",
    "    os.mkdir('tmp')\n",
    "except:\n",
    "    pass"
   ]
  },
  {
   "attachments": {},
   "cell_type": "markdown",
   "metadata": {},
   "source": [
    "### list files in photos to process"
   ]
  },
  {
   "cell_type": "code",
   "execution_count": null,
   "metadata": {},
   "outputs": [],
   "source": [
    "files = os.listdir('.')"
   ]
  },
  {
   "attachments": {},
   "cell_type": "markdown",
   "metadata": {},
   "source": [
    "### slice function"
   ]
  },
  {
   "cell_type": "code",
   "execution_count": null,
   "metadata": {},
   "outputs": [],
   "source": [
    "img = cv2.imread('photo1.png')"
   ]
  },
  {
   "cell_type": "code",
   "execution_count": null,
   "metadata": {},
   "outputs": [],
   "source": [
    "def slice_photo(filename:str):\n",
    "    img = cv2.imread(filename, cv2.IMREAD_COLOR)\n",
    "    window_x, window_y = 64\n",
    "    image_x, image_y, _ = img.shape()\n",
    "    for y in range(image_y - window_y + 1):\n",
    "        for x in range(image_x - window_x + 1):\n",
    "            im_tmp = img[x:x+window_x][y:y+window_y]\n",
    "            "
   ]
  },
  {
   "cell_type": "code",
   "execution_count": null,
   "metadata": {},
   "outputs": [
    {
     "name": "stderr",
     "output_type": "stream",
     "text": [
      "/tmp/ipykernel_9073/1873684590.py:6: UserWarning: Matplotlib is currently using module://matplotlib_inline.backend_inline, which is a non-GUI backend, so cannot show the figure.\n",
      "  plt.waitforbuttonpress()\n"
     ]
    },
    {
     "ename": "KeyboardInterrupt",
     "evalue": "",
     "output_type": "error",
     "traceback": [
      "\u001b[0;31m---------------------------------------------------------------------------\u001b[0m",
      "\u001b[0;31mKeyboardInterrupt\u001b[0m                         Traceback (most recent call last)",
      "Cell \u001b[0;32mIn [12], line 6\u001b[0m\n\u001b[1;32m      1\u001b[0m \u001b[39m# cv2.imshow(\"image\", img)\u001b[39;00m\n\u001b[1;32m      2\u001b[0m \u001b[39m# cv2.waitKey(0)\u001b[39;00m\n\u001b[1;32m      3\u001b[0m \u001b[39m# cv2.destroyAllWindows()\u001b[39;00m\n\u001b[1;32m      5\u001b[0m plt\u001b[39m.\u001b[39mimshow(img)\n\u001b[0;32m----> 6\u001b[0m plt\u001b[39m.\u001b[39;49mwaitforbuttonpress()\n\u001b[1;32m      7\u001b[0m plt\u001b[39m.\u001b[39mclose(\u001b[39m'\u001b[39m\u001b[39mall\u001b[39m\u001b[39m'\u001b[39m)\n",
      "File \u001b[0;32m~/.local/lib/python3.10/site-packages/matplotlib/pyplot.py:2291\u001b[0m, in \u001b[0;36mwaitforbuttonpress\u001b[0;34m(timeout)\u001b[0m\n\u001b[1;32m   2289\u001b[0m \u001b[39m@_copy_docstring_and_deprecators\u001b[39m(Figure\u001b[39m.\u001b[39mwaitforbuttonpress)\n\u001b[1;32m   2290\u001b[0m \u001b[39mdef\u001b[39;00m \u001b[39mwaitforbuttonpress\u001b[39m(timeout\u001b[39m=\u001b[39m\u001b[39m-\u001b[39m\u001b[39m1\u001b[39m):\n\u001b[0;32m-> 2291\u001b[0m     \u001b[39mreturn\u001b[39;00m gcf()\u001b[39m.\u001b[39;49mwaitforbuttonpress(timeout\u001b[39m=\u001b[39;49mtimeout)\n",
      "File \u001b[0;32m~/.local/lib/python3.10/site-packages/matplotlib/figure.py:3398\u001b[0m, in \u001b[0;36mFigure.waitforbuttonpress\u001b[0;34m(self, timeout)\u001b[0m\n\u001b[1;32m   3395\u001b[0m     event \u001b[39m=\u001b[39m ev\n\u001b[1;32m   3396\u001b[0m     \u001b[39mself\u001b[39m\u001b[39m.\u001b[39mcanvas\u001b[39m.\u001b[39mstop_event_loop()\n\u001b[0;32m-> 3398\u001b[0m _blocking_input\u001b[39m.\u001b[39;49mblocking_input_loop(\n\u001b[1;32m   3399\u001b[0m     \u001b[39mself\u001b[39;49m, [\u001b[39m\"\u001b[39;49m\u001b[39mbutton_press_event\u001b[39;49m\u001b[39m\"\u001b[39;49m, \u001b[39m\"\u001b[39;49m\u001b[39mkey_press_event\u001b[39;49m\u001b[39m\"\u001b[39;49m], timeout, handler)\n\u001b[1;32m   3401\u001b[0m \u001b[39mreturn\u001b[39;00m \u001b[39mNone\u001b[39;00m \u001b[39mif\u001b[39;00m event \u001b[39mis\u001b[39;00m \u001b[39mNone\u001b[39;00m \u001b[39melse\u001b[39;00m event\u001b[39m.\u001b[39mname \u001b[39m==\u001b[39m \u001b[39m\"\u001b[39m\u001b[39mkey_press_event\u001b[39m\u001b[39m\"\u001b[39m\n",
      "File \u001b[0;32m~/.local/lib/python3.10/site-packages/matplotlib/_blocking_input.py:26\u001b[0m, in \u001b[0;36mblocking_input_loop\u001b[0;34m(figure, event_names, timeout, handler)\u001b[0m\n\u001b[1;32m     24\u001b[0m cids \u001b[39m=\u001b[39m [figure\u001b[39m.\u001b[39mcanvas\u001b[39m.\u001b[39mmpl_connect(name, handler) \u001b[39mfor\u001b[39;00m name \u001b[39min\u001b[39;00m event_names]\n\u001b[1;32m     25\u001b[0m \u001b[39mtry\u001b[39;00m:\n\u001b[0;32m---> 26\u001b[0m     figure\u001b[39m.\u001b[39;49mcanvas\u001b[39m.\u001b[39;49mstart_event_loop(timeout)  \u001b[39m# Start event loop.\u001b[39;00m\n\u001b[1;32m     27\u001b[0m \u001b[39mfinally\u001b[39;00m:  \u001b[39m# Run even on exception like ctrl-c.\u001b[39;00m\n\u001b[1;32m     28\u001b[0m     \u001b[39m# Disconnect the callbacks.\u001b[39;00m\n\u001b[1;32m     29\u001b[0m     \u001b[39mfor\u001b[39;00m cid \u001b[39min\u001b[39;00m cids:\n",
      "File \u001b[0;32m~/.local/lib/python3.10/site-packages/matplotlib/backend_bases.py:2525\u001b[0m, in \u001b[0;36mFigureCanvasBase.start_event_loop\u001b[0;34m(self, timeout)\u001b[0m\n\u001b[1;32m   2523\u001b[0m \u001b[39mwhile\u001b[39;00m \u001b[39mself\u001b[39m\u001b[39m.\u001b[39m_looping \u001b[39mand\u001b[39;00m counter \u001b[39m*\u001b[39m timestep \u001b[39m<\u001b[39m timeout:\n\u001b[1;32m   2524\u001b[0m     \u001b[39mself\u001b[39m\u001b[39m.\u001b[39mflush_events()\n\u001b[0;32m-> 2525\u001b[0m     time\u001b[39m.\u001b[39;49msleep(timestep)\n\u001b[1;32m   2526\u001b[0m     counter \u001b[39m+\u001b[39m\u001b[39m=\u001b[39m \u001b[39m1\u001b[39m\n",
      "\u001b[0;31mKeyboardInterrupt\u001b[0m: "
     ]
    },
    {
     "data": {
      "image/png": "[encoded data removed]",
      "text/plain": [
       "<Figure size 640x480 with 1 Axes>"
      ]
     },
     "metadata": {},
     "output_type": "display_data"
    }
   ],
   "source": [
    "# cv2.imshow(\"image\", img)\n",
    "# cv2.waitKey(0)\n",
    "# cv2.destroyAllWindows()\n",
    "\n",
    "plt.imshow(img)\n",
    "plt.waitforbuttonpress()\n",
    "plt.close('all')"
   ]
  },
  {
   "attachments": {},
   "cell_type": "markdown",
   "metadata": {},
   "source": [
    "### for each file in directory slice it and analyze"
   ]
  },
  {
   "cell_type": "code",
   "execution_count": null,
   "metadata": {},
   "outputs": [],
   "source": []
  }
 ],
 "metadata": {
  "kernelspec": {
   "display_name": "Python 3",
   "language": "python",
   "name": "python3"
  },
  "language_info": {
   "codemirror_mode": {
    "name": "ipython",
    "version": 3
   },
   "file_extension": ".py",
   "mimetype": "text/x-python",
   "name": "python",
   "nbconvert_exporter": "python",
   "pygments_lexer": "ipython3",
   "version": "3.10.6"
  },
  "orig_nbformat": 4,
  "vscode": {
   "interpreter": {
    "hash": "916dbcbb3f70747c44a77c7bcd40155683ae19c65e1c03b4aa3499c5328201f1"
   }
  }
 },
 "nbformat": 4,
 "nbformat_minor": 2
}
